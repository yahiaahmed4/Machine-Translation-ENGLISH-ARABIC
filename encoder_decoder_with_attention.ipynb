{
  "cells": [
    {
      "cell_type": "code",
      "execution_count": 29,
      "metadata": {
        "id": "_49ZdjseOTR4"
      },
      "outputs": [],
      "source": [
        "import os\n",
        "import re\n",
        "import pandas as pd\n",
        "import numpy as np\n",
        "import tensorflow as tf\n",
        "from tensorflow import keras\n",
        "from tensorflow.keras.models import Model\n",
        "from tensorflow.keras.layers import Dense, LSTM, Input, Bidirectional, Dropout, Attention , Concatenate\n",
        "from tensorflow.keras.callbacks import EarlyStopping\n",
        "import matplotlib.pyplot as plt\n",
        "keras.utils.set_random_seed(42)\n",
        "tf.config.experimental.enable_op_determinism()"
      ]
    },
    {
      "cell_type": "code",
      "execution_count": 3,
      "metadata": {
        "colab": {
          "base_uri": "https://localhost:8080/"
        },
        "id": "NmJFs8Erik02",
        "outputId": "d192d43e-a82b-4aa0-8daf-1998afa3c225"
      },
      "outputs": [
        {
          "name": "stdout",
          "output_type": "stream",
          "text": [
            "Mounted at /content/drive\n"
          ]
        }
      ],
      "source": [
        "from google.colab import drive\n",
        "drive.mount('/content/drive')"
      ]
    },
    {
      "cell_type": "code",
      "execution_count": 4,
      "metadata": {
        "id": "AzEWdnOF_10O"
      },
      "outputs": [],
      "source": [
        "file_path = \"/content/drive/MyDrive/Dataset.txt\"\n",
        "\n",
        "# Check if the data has already been loaded\n",
        "if 'content' in locals() or 'content' in globals():\n",
        "    print(\"Data is already loaded.\")\n",
        "else:\n",
        "    # Load the data from the file\n",
        "    if os.path.exists(file_path):\n",
        "        with open(file_path, 'r') as file:\n",
        "            text = file.readlines()\n",
        "    else:\n",
        "        print(\"File does not exist.\")\n"
      ]
    },
    {
      "cell_type": "code",
      "execution_count": 5,
      "metadata": {
        "id": "YrP3LpnLAwi6"
      },
      "outputs": [],
      "source": [
        "lines = [line.strip() for line in text]"
      ]
    },
    {
      "cell_type": "code",
      "execution_count": 6,
      "metadata": {
        "colab": {
          "base_uri": "https://localhost:8080/"
        },
        "id": "Jrjc19qHAzPM",
        "outputId": "e738de13-e39d-4ff7-e1bf-4df6f0c2c103"
      },
      "outputs": [
        {
          "name": "stdout",
          "output_type": "stream",
          "text": [
            "24638\n"
          ]
        }
      ],
      "source": [
        "print(len(lines))"
      ]
    },
    {
      "cell_type": "code",
      "execution_count": 7,
      "metadata": {
        "colab": {
          "base_uri": "https://localhost:8080/"
        },
        "id": "cXurZSSIA1fq",
        "outputId": "f307067a-f978-4524-a2d0-d695ab0e24d0"
      },
      "outputs": [
        {
          "name": "stdout",
          "output_type": "stream",
          "text": [
            "['Hi.\\tمرحبًا.\\n', 'Run!\\tاركض!\\n', 'Help!\\tالنجدة!\\n', 'Jump!\\tاقفز!\\n', 'Stop!\\tقف!\\n', 'Go on.\\tداوم.\\n', 'Go on.\\tاستمر.\\n', 'Hello!\\tمرحباً.\\n', 'Hurry!\\tتعجّل!\\n', 'Hurry!\\tاستعجل!\\n', 'I see.\\tانا اري\\n', 'I won!\\tأنا فُزت!\\n', 'Relax.\\tاسترح.\\n', 'Smile.\\tابتسم.\\n', 'Cheers!\\tفي صحتك.\\n', 'Got it?\\tهل فهمت؟\\n', 'He ran.\\tركض.\\n', 'I know.\\tأعرف.\\n', 'I know.\\tأعلم ذلك.\\n', 'I know.\\tأنا أعلم\\n', \"I'm 19.\\tأنا في 19\\n\", \"I'm OK.\\tأنا بخير.\\n\", 'Listen.\\tاستمع\\n', 'No way!\\tغير معقول!\\n', 'Really?\\tحقاً؟\\n', 'Thanks.\\tشكرا.\\n', 'Why me?\\tلماذا أنا؟\\n', 'Awesome!\\tرائع!\\n', 'Be cool.\\tخذ راحتك.\\n', 'Call me.\\tهاتفني.\\n', 'Call me.\\tاتصل بي.\\n', 'Come in.\\tتفضل بالدخول.\\n', 'Come in.\\tتعال إلى الداخل\\n', 'Come on!\\tبالله عليك!\\n', 'Come on!\\tهيا\\n', 'Come on!\\tهيّا\\n', 'Get out!\\tاخرج من هنا!\\n', 'Get out!\\tأُخرج!\\n', 'Get out.\\tاخرج!\\n', 'Go away.\\tاتركني و شأني.\\n', 'Go away.\\tاذهب بعيداً.\\n', 'Go away.\\tارحل.\\n', 'Goodbye!\\tمع السلامة.\\n', 'He came.\\tلقد أتى.\\n', 'He runs.\\tهو يجري\\n', 'Help me!\\tساعدني!\\n', 'Help me.\\tالنجدة! ساعدني!\\n', \"I'm sad.\\tأنا حزين.\\n\", 'Me, too.\\tأنا أيضاً.\\n', 'Shut up!\\tاخرس!\\n']\n"
          ]
        }
      ],
      "source": [
        "print(text[:50])"
      ]
    },
    {
      "cell_type": "code",
      "execution_count": 8,
      "metadata": {
        "id": "k_1pmQ8hCyk0"
      },
      "outputs": [],
      "source": [
        "with open(file_path, 'r') as f:\n",
        "    string = f.read()\n",
        "\n",
        "with open('eng_arab.txt','w') as f:\n",
        "    f.write(string)"
      ]
    },
    {
      "cell_type": "code",
      "execution_count": 9,
      "metadata": {
        "id": "R9C76kHzA8H9"
      },
      "outputs": [],
      "source": [
        "data = pd.read_csv('eng_arab.txt',sep=\"\\t\",header=None)\n",
        "data.columns=['English', \"Arabic\"]\n",
        "data['English'] = data['English'].str.replace('<', '')\n",
        "data['English'] = data['English'].str.replace('>', '')\n",
        "data['Arabic'] = data['Arabic'].str.replace('>', '')\n",
        "data['Arabic'] = data['Arabic'].str.replace('<', '')\n",
        "data['English'] = \"< \"+data['English']+\" >\"\n",
        "data['Arabic'] = \"< \"+data['Arabic']+\" >\""
      ]
    },
    {
      "cell_type": "code",
      "execution_count": 10,
      "metadata": {
        "id": "sMJCp_pDXt3f"
      },
      "outputs": [],
      "source": [
        "# to remove the english and tashkeel from the arabic data\n",
        "\n",
        "# Regular expression pattern to match English and tashkeel in Arabic text\n",
        "english_pattern = r'[a-zA-Z]+'\n",
        "tashkeel_pattern = r'[\\u064B-\\u0652]+'\n",
        "\n",
        "# Function to remove English and tashkeel from a sentence\n",
        "def remove_english_and_tashkeel(text):\n",
        "    text = re.sub(english_pattern, '', text)  # Remove English\n",
        "    text = re.sub(tashkeel_pattern, '', text)  # Remove Tashkeel\n",
        "    return text\n",
        "\n",
        "\n",
        "for i in range(len(data['Arabic'])):\n",
        "    arabic_sentence = data['Arabic'][i]\n",
        "    cleaned_arabic = remove_english_and_tashkeel(arabic_sentence)\n",
        "    data['Arabic'][i] = cleaned_arabic"
      ]
    },
    {
      "cell_type": "code",
      "execution_count": 11,
      "metadata": {
        "colab": {
          "base_uri": "https://localhost:8080/"
        },
        "id": "BGNeUjXPDoZ3",
        "outputId": "8976c275-3d15-4d79-f216-35c52eeb0e57"
      },
      "outputs": [
        {
          "name": "stdout",
          "output_type": "stream",
          "text": [
            "<class 'pandas.core.frame.DataFrame'>\n",
            "RangeIndex: 24638 entries, 0 to 24637\n",
            "Data columns (total 2 columns):\n",
            " #   Column   Non-Null Count  Dtype \n",
            "---  ------   --------------  ----- \n",
            " 0   English  24638 non-null  object\n",
            " 1   Arabic   24638 non-null  object\n",
            "dtypes: object(2)\n",
            "memory usage: 385.1+ KB\n"
          ]
        }
      ],
      "source": [
        "data.info()"
      ]
    },
    {
      "cell_type": "code",
      "execution_count": 12,
      "metadata": {
        "id": "yMtjPld_D4ON"
      },
      "outputs": [],
      "source": [
        "num_samples = 10_000\n",
        "\n",
        "data = data.head(num_samples)"
      ]
    },
    {
      "cell_type": "code",
      "execution_count": 13,
      "metadata": {
        "colab": {
          "base_uri": "https://localhost:8080/"
        },
        "id": "375YlZbDELVj",
        "outputId": "8587735e-a28b-4ec4-82ed-31803d8e1c69"
      },
      "outputs": [
        {
          "name": "stdout",
          "output_type": "stream",
          "text": [
            "<class 'pandas.core.frame.DataFrame'>\n",
            "RangeIndex: 10000 entries, 0 to 9999\n",
            "Data columns (total 2 columns):\n",
            " #   Column   Non-Null Count  Dtype \n",
            "---  ------   --------------  ----- \n",
            " 0   English  10000 non-null  object\n",
            " 1   Arabic   10000 non-null  object\n",
            "dtypes: object(2)\n",
            "memory usage: 156.4+ KB\n"
          ]
        }
      ],
      "source": [
        "data.info()"
      ]
    },
    {
      "cell_type": "code",
      "execution_count": 14,
      "metadata": {
        "id": "HVmGVfzIEM7d"
      },
      "outputs": [],
      "source": [
        "input_texts = data['English'].to_list()\n",
        "output_texts = data['Arabic'].to_list()"
      ]
    },
    {
      "cell_type": "code",
      "execution_count": 15,
      "metadata": {
        "id": "n3FTXPnYETnZ"
      },
      "outputs": [],
      "source": [
        "input_characters = set()\n",
        "\n",
        "for sentence in input_texts:\n",
        "  for char in sentence:\n",
        "    input_characters.add(char)"
      ]
    },
    {
      "cell_type": "code",
      "execution_count": 16,
      "metadata": {
        "id": "x772ZWcPEZ0p"
      },
      "outputs": [],
      "source": [
        "output_characters = set()\n",
        "\n",
        "for sentence in output_texts:\n",
        "  for char in sentence:\n",
        "    output_characters.add(char)"
      ]
    },
    {
      "cell_type": "code",
      "execution_count": 17,
      "metadata": {
        "colab": {
          "base_uri": "https://localhost:8080/"
        },
        "id": "ryLNw4i-EnxQ",
        "outputId": "bc509b95-d520-433a-c50e-6744ee99740d"
      },
      "outputs": [
        {
          "data": {
            "text/plain": [
              "(75, 78)"
            ]
          },
          "execution_count": 17,
          "metadata": {},
          "output_type": "execute_result"
        }
      ],
      "source": [
        "# unique source lang (english) characters, unique target lang (arabic) characters\n",
        "len(input_characters), len(output_characters)"
      ]
    },
    {
      "cell_type": "code",
      "execution_count": 18,
      "metadata": {
        "colab": {
          "base_uri": "https://localhost:8080/"
        },
        "id": "vqVGEsKnEtuK",
        "outputId": "ba8f6ec6-1bfa-415e-c31a-a98b5b7148d2"
      },
      "outputs": [
        {
          "data": {
            "text/plain": [
              "(75, 78, 48, 69)"
            ]
          },
          "execution_count": 18,
          "metadata": {},
          "output_type": "execute_result"
        }
      ],
      "source": [
        "input_characters = sorted(list(input_characters))\n",
        "output_characters = sorted(list(output_characters))\n",
        "\n",
        "num_encoder_tokens = len(input_characters)\n",
        "num_decoder_tokens = len(output_characters)\n",
        "\n",
        "max_encoder_seq_length = max([len(txt) for txt in input_texts])\n",
        "max_decoder_seq_length = max([len(txt) for txt in output_texts])\n",
        "\n",
        "num_encoder_tokens, num_decoder_tokens, max_encoder_seq_length, max_decoder_seq_length"
      ]
    },
    {
      "cell_type": "code",
      "execution_count": 19,
      "metadata": {
        "id": "WXPyMxcBE2NJ"
      },
      "outputs": [],
      "source": [
        "input_token_index = dict([(char, i) for i, char in enumerate(input_characters)])\n",
        "output_token_index = dict([(char, i) for i, char in enumerate(output_characters)])"
      ]
    },
    {
      "cell_type": "code",
      "execution_count": 20,
      "metadata": {
        "colab": {
          "base_uri": "https://localhost:8080/"
        },
        "id": "gJfxeOSWFDbq",
        "outputId": "6cc5e604-9999-4324-dfdb-d0934763db99"
      },
      "outputs": [
        {
          "data": {
            "text/plain": [
              "((10000, 48, 75), (10000, 69, 78))"
            ]
          },
          "execution_count": 20,
          "metadata": {},
          "output_type": "execute_result"
        }
      ],
      "source": [
        "# Input Sequences (English): Padded to a maximum length of 48 characters with a vocabulary of 75 different characters (10000, 48, 75).\n",
        "# Output Sequences (Arabic): Padded to a maximum length of 69 characters with a vocabulary of 107 different characters (10000, 69, 78).\n",
        "\n",
        "encoder_input_data = np.zeros((num_samples, max_encoder_seq_length, num_encoder_tokens), dtype='float32')\n",
        "decoder_input_data = np.zeros((num_samples, max_decoder_seq_length, num_decoder_tokens), dtype='float32')\n",
        "decoder_output_data = np.zeros((num_samples, max_decoder_seq_length, num_decoder_tokens), dtype='float32')\n",
        "\n",
        "encoder_input_data.shape, decoder_input_data.shape"
      ]
    },
    {
      "cell_type": "code",
      "execution_count": 21,
      "metadata": {
        "id": "Rv1HE4yAGbs1"
      },
      "outputs": [],
      "source": [
        "for i, (input_text, target_text) in enumerate(zip(input_texts, output_texts)):\n",
        "  for t, char in enumerate (input_text):\n",
        "    encoder_input_data[i, t, input_token_index[char]] = 1.0\n",
        "\n",
        "  encoder_input_data[i, t + 1:, input_token_index[' ']] = 1.0\n",
        "\n",
        "  for t, char in enumerate(target_text):\n",
        "    decoder_input_data[i, t, output_token_index[char]] = 1.0\n",
        "    if t > 0:\n",
        "      decoder_output_data[i, t - 1, output_token_index[char]] = 1.0\n",
        "\n",
        "  decoder_input_data[i, t + 1:, output_token_index[' ']] = 1.0\n",
        "  decoder_output_data[i, t:, output_token_index[' ']] = 1.0"
      ]
    },
    {
      "cell_type": "code",
      "execution_count": 22,
      "metadata": {
        "colab": {
          "base_uri": "https://localhost:8080/"
        },
        "id": "XZrcEc4TGjDL",
        "outputId": "01b1e113-0782-4b35-f193-e1b8ddd9a87d"
      },
      "outputs": [
        {
          "data": {
            "text/plain": [
              "(10000, 48, 75)"
            ]
          },
          "execution_count": 22,
          "metadata": {},
          "output_type": "execute_result"
        }
      ],
      "source": [
        "encoder_input_data.shape"
      ]
    },
    {
      "cell_type": "code",
      "execution_count": 23,
      "metadata": {
        "colab": {
          "base_uri": "https://localhost:8080/"
        },
        "id": "Uv7k0d_XGpFc",
        "outputId": "02fdc0b2-194e-4c31-8353-028adb192ca3"
      },
      "outputs": [
        {
          "data": {
            "text/plain": [
              "(48, 75)"
            ]
          },
          "execution_count": 23,
          "metadata": {},
          "output_type": "execute_result"
        }
      ],
      "source": [
        "encoder_input_data[0].shape"
      ]
    },
    {
      "cell_type": "code",
      "execution_count": 24,
      "metadata": {
        "colab": {
          "base_uri": "https://localhost:8080/"
        },
        "id": "Mp0FJWTLGsWd",
        "outputId": "487b3714-ec93-41b4-d8f5-283ab840a8bf"
      },
      "outputs": [
        {
          "data": {
            "text/plain": [
              "array([0., 0., 0., 0., 0., 0., 0., 0., 0., 0., 0., 0., 0., 0., 0., 0., 0.,\n",
              "       0., 1., 0., 0., 0., 0., 0., 0., 0., 0., 0., 0., 0., 0., 0., 0., 0.,\n",
              "       0., 0., 0., 0., 0., 0., 0., 0., 0., 0., 0., 0., 0., 0., 0., 0., 0.,\n",
              "       0., 0., 0., 0., 0., 0., 0., 0., 0., 0., 0., 0., 0., 0., 0., 0., 0.,\n",
              "       0., 0., 0., 0., 0., 0., 0.], dtype=float32)"
            ]
          },
          "execution_count": 24,
          "metadata": {},
          "output_type": "execute_result"
        }
      ],
      "source": [
        "encoder_input_data[0][0]"
      ]
    },
    {
      "cell_type": "code",
      "execution_count": 25,
      "metadata": {
        "colab": {
          "base_uri": "https://localhost:8080/"
        },
        "id": "-Ua84BxaGw6R",
        "outputId": "20e71ee8-cacc-4a07-b111-ec38409a3d06"
      },
      "outputs": [
        {
          "data": {
            "text/plain": [
              "array([0., 0., 0., 0., 0., 0., 0., 0., 0., 0., 0., 0., 0., 0., 0., 0., 0.,\n",
              "       0., 0., 0., 0., 0., 0., 0., 0., 0., 0., 0., 1., 0., 0., 0., 0., 0.,\n",
              "       0., 0., 0., 0., 0., 0., 0., 0., 0., 0., 0., 0., 0., 0., 0., 0., 0.,\n",
              "       0., 0., 0., 0., 0., 0., 0., 0., 0., 0., 0., 0., 0., 0., 0., 0., 0.,\n",
              "       0., 0., 0., 0., 0., 0., 0.], dtype=float32)"
            ]
          },
          "execution_count": 25,
          "metadata": {},
          "output_type": "execute_result"
        }
      ],
      "source": [
        "encoder_input_data[0][2]"
      ]
    },
    {
      "cell_type": "code",
      "execution_count": 26,
      "metadata": {
        "id": "WWUu3qjYG0De"
      },
      "outputs": [],
      "source": [
        "# Define LSTM units\n",
        "lstm_dim = 128\n",
        "\n",
        "#using bidirectional lstm\n",
        "# Encoder Definition\n",
        "encoder_inputs = Input(shape=(None, num_encoder_tokens))\n",
        "encoder = Bidirectional(LSTM(lstm_dim, return_sequences=False, return_state=True))\n",
        "encoder_outputs, forward_h, forward_c, backward_h, backward_c = encoder(encoder_inputs)\n",
        "\n",
        "state_h = tf.keras.layers.Concatenate()([forward_h, backward_h])\n",
        "state_c = tf.keras.layers.Concatenate()([forward_c, backward_c])\n",
        "\n",
        "encoder_states = [state_h, state_c]"
      ]
    },
    {
      "cell_type": "code",
      "execution_count": 27,
      "metadata": {
        "id": "4EdeT6MXN7rD"
      },
      "outputs": [],
      "source": [
        "# Decoder Definition\n",
        "decoder_inputs = Input(shape=(None, num_decoder_tokens))\n",
        "decoder_lstm = LSTM(2*lstm_dim, return_sequences=True, return_state=True)\n",
        "decoder_outputs, _, _ = decoder_lstm(decoder_inputs, initial_state=encoder_states)"
      ]
    },
    {
      "cell_type": "code",
      "execution_count": 30,
      "metadata": {
        "id": "5-POccEzAzjz"
      },
      "outputs": [],
      "source": [
        "# Attention Layer\n",
        "attention = Attention()([decoder_outputs, encoder_outputs])\n",
        "context = Concatenate()([decoder_outputs, attention])"
      ]
    },
    {
      "cell_type": "code",
      "execution_count": 31,
      "metadata": {
        "id": "BUylqFZyN-QV"
      },
      "outputs": [],
      "source": [
        "# Dense Layer\n",
        "decoder_dense = Dense(num_decoder_tokens, activation='softmax')\n",
        "decoder_outputs = decoder_dense(context)"
      ]
    },
    {
      "cell_type": "code",
      "execution_count": 32,
      "metadata": {
        "id": "5ANkBJGzOAHn"
      },
      "outputs": [],
      "source": [
        "model = Model([encoder_inputs, decoder_inputs], decoder_outputs)"
      ]
    },
    {
      "cell_type": "code",
      "execution_count": 33,
      "metadata": {
        "id": "BC6UkGnqwJB3"
      },
      "outputs": [],
      "source": [
        "# Compile the model with a different optimizer\n",
        "optimizer = tf.keras.optimizers.Adam(learning_rate=0.001)\n",
        "model.compile(optimizer=optimizer, loss='categorical_crossentropy', metrics=['accuracy'])"
      ]
    },
    {
      "cell_type": "code",
      "execution_count": 34,
      "metadata": {
        "colab": {
          "base_uri": "https://localhost:8080/"
        },
        "id": "LKL-PzQywSiK",
        "outputId": "a58d47c8-94b6-447a-dea3-627a5658daca"
      },
      "outputs": [
        {
          "name": "stdout",
          "output_type": "stream",
          "text": [
            "Epoch 1/30\n",
            "125/125 [==============================] - 81s 603ms/step - loss: 1.1214 - accuracy: 0.7556 - val_loss: 1.4462 - val_accuracy: 0.6385\n",
            "Epoch 2/30\n",
            "125/125 [==============================] - 74s 591ms/step - loss: 0.8710 - accuracy: 0.7677 - val_loss: 1.3241 - val_accuracy: 0.6475\n",
            "Epoch 3/30\n",
            "125/125 [==============================] - 74s 594ms/step - loss: 0.7887 - accuracy: 0.7881 - val_loss: 1.2119 - val_accuracy: 0.6771\n",
            "Epoch 4/30\n",
            "125/125 [==============================] - 71s 573ms/step - loss: 0.7809 - accuracy: 0.7980 - val_loss: 1.3092 - val_accuracy: 0.6432\n",
            "Epoch 5/30\n",
            "125/125 [==============================] - 74s 596ms/step - loss: 0.7283 - accuracy: 0.8056 - val_loss: 1.1185 - val_accuracy: 0.7003\n",
            "Epoch 6/30\n",
            "125/125 [==============================] - 74s 596ms/step - loss: 0.6835 - accuracy: 0.8152 - val_loss: 1.0849 - val_accuracy: 0.7067\n",
            "Epoch 7/30\n",
            "125/125 [==============================] - 71s 573ms/step - loss: 0.6639 - accuracy: 0.8191 - val_loss: 1.0609 - val_accuracy: 0.7113\n",
            "Epoch 8/30\n",
            "125/125 [==============================] - 74s 592ms/step - loss: 0.6499 - accuracy: 0.8220 - val_loss: 1.0453 - val_accuracy: 0.7148\n",
            "Epoch 9/30\n",
            "125/125 [==============================] - 71s 566ms/step - loss: 0.6375 - accuracy: 0.8246 - val_loss: 1.0290 - val_accuracy: 0.7173\n",
            "Epoch 10/30\n",
            "125/125 [==============================] - 69s 553ms/step - loss: 0.6253 - accuracy: 0.8269 - val_loss: 1.0122 - val_accuracy: 0.7211\n",
            "Epoch 11/30\n",
            "125/125 [==============================] - 76s 612ms/step - loss: 0.6130 - accuracy: 0.8299 - val_loss: 1.0019 - val_accuracy: 0.7217\n",
            "Epoch 12/30\n",
            "125/125 [==============================] - 70s 561ms/step - loss: 0.6002 - accuracy: 0.8329 - val_loss: 0.9784 - val_accuracy: 0.7301\n",
            "Epoch 13/30\n",
            "125/125 [==============================] - 71s 569ms/step - loss: 0.5885 - accuracy: 0.8360 - val_loss: 0.9630 - val_accuracy: 0.7340\n",
            "Epoch 14/30\n",
            "125/125 [==============================] - 76s 611ms/step - loss: 0.5771 - accuracy: 0.8392 - val_loss: 0.9552 - val_accuracy: 0.7353\n",
            "Epoch 15/30\n",
            "125/125 [==============================] - 77s 612ms/step - loss: 0.5653 - accuracy: 0.8422 - val_loss: 0.9373 - val_accuracy: 0.7407\n",
            "Epoch 16/30\n",
            "125/125 [==============================] - 75s 601ms/step - loss: 0.5556 - accuracy: 0.8449 - val_loss: 0.9279 - val_accuracy: 0.7418\n",
            "Epoch 17/30\n",
            "125/125 [==============================] - 74s 596ms/step - loss: 0.5457 - accuracy: 0.8476 - val_loss: 0.9160 - val_accuracy: 0.7461\n",
            "Epoch 18/30\n",
            "125/125 [==============================] - 75s 599ms/step - loss: 0.5359 - accuracy: 0.8503 - val_loss: 0.9107 - val_accuracy: 0.7488\n",
            "Epoch 19/30\n",
            "125/125 [==============================] - 74s 597ms/step - loss: 0.5267 - accuracy: 0.8527 - val_loss: 0.8982 - val_accuracy: 0.7516\n",
            "Epoch 20/30\n",
            "125/125 [==============================] - 74s 597ms/step - loss: 0.5178 - accuracy: 0.8550 - val_loss: 0.8915 - val_accuracy: 0.7523\n",
            "Epoch 21/30\n",
            "125/125 [==============================] - 71s 572ms/step - loss: 0.5098 - accuracy: 0.8573 - val_loss: 0.8862 - val_accuracy: 0.7540\n",
            "Epoch 22/30\n",
            "125/125 [==============================] - 75s 598ms/step - loss: 0.5016 - accuracy: 0.8596 - val_loss: 0.8759 - val_accuracy: 0.7582\n",
            "Epoch 23/30\n",
            "125/125 [==============================] - 72s 581ms/step - loss: 0.4933 - accuracy: 0.8620 - val_loss: 0.8711 - val_accuracy: 0.7596\n",
            "Epoch 24/30\n",
            "125/125 [==============================] - 72s 579ms/step - loss: 0.4851 - accuracy: 0.8640 - val_loss: 0.8621 - val_accuracy: 0.7627\n",
            "Epoch 25/30\n",
            "125/125 [==============================] - 73s 581ms/step - loss: 0.4763 - accuracy: 0.8668 - val_loss: 0.8551 - val_accuracy: 0.7648\n",
            "Epoch 26/30\n",
            "125/125 [==============================] - 76s 609ms/step - loss: 0.4690 - accuracy: 0.8687 - val_loss: 0.8556 - val_accuracy: 0.7648\n",
            "Epoch 27/30\n",
            "125/125 [==============================] - 76s 612ms/step - loss: 0.4602 - accuracy: 0.8714 - val_loss: 0.8441 - val_accuracy: 0.7680\n",
            "Epoch 28/30\n",
            "125/125 [==============================] - 77s 620ms/step - loss: 0.4519 - accuracy: 0.8734 - val_loss: 0.8457 - val_accuracy: 0.7674\n",
            "Epoch 29/30\n",
            "125/125 [==============================] - 73s 588ms/step - loss: 0.4442 - accuracy: 0.8756 - val_loss: 0.8395 - val_accuracy: 0.7700\n",
            "Epoch 30/30\n",
            "125/125 [==============================] - 78s 623ms/step - loss: 0.4359 - accuracy: 0.8779 - val_loss: 0.8352 - val_accuracy: 0.7711\n"
          ]
        }
      ],
      "source": [
        "# Adjust batch size and epochs\n",
        "batch_size = 64\n",
        "epochs = 30\n",
        "\n",
        "history = model.fit(\n",
        "    x=[encoder_input_data, decoder_input_data],\n",
        "    y=decoder_output_data,\n",
        "    batch_size=batch_size,\n",
        "    epochs=epochs,\n",
        "    validation_split=0.2,\n",
        "    callbacks=[EarlyStopping(monitor='val_loss', mode='min', verbose=1, patience=5)]\n",
        ")"
      ]
    },
    {
      "cell_type": "code",
      "execution_count": 35,
      "metadata": {
        "id": "TJq0f-wHOFD2"
      },
      "outputs": [],
      "source": [
        "train_loss = history.history['loss']\n",
        "val_loss = history.history['val_loss']\n",
        "train_accuracy = history.history['accuracy']\n",
        "val_accuracy = history.history['val_accuracy']"
      ]
    },
    {
      "cell_type": "code",
      "execution_count": 36,
      "metadata": {
        "colab": {
          "base_uri": "https://localhost:8080/",
          "height": 564
        },
        "id": "Jpo-GJymgj1N",
        "outputId": "9cfec319-e7db-44ad-97ab-7bb4016e7bb9"
      },
      "outputs": [
        {
          "data": {
            "image/png": "[encoded data removed]",
            "text/plain": [
              "<Figure size 600x600 with 1 Axes>"
            ]
          },
          "metadata": {},
          "output_type": "display_data"
        }
      ],
      "source": [
        "plt.figure(figsize=(6, 6))\n",
        "plt.plot(train_loss, label='Training Loss')\n",
        "plt.plot(val_loss, label='Validation Loss')\n",
        "plt.xlabel('Epoch')\n",
        "plt.ylabel('Loss')\n",
        "plt.legend()\n",
        "plt.title('Training and Validation Loss')\n",
        "plt.show()"
      ]
    }
  ],
  "metadata": {
    "colab": {
      "provenance": []
    },
    "kernelspec": {
      "display_name": "Python 3",
      "name": "python3"
    },
    "language_info": {
      "name": "python"
    }
  },
  "nbformat": 4,
  "nbformat_minor": 0
}
